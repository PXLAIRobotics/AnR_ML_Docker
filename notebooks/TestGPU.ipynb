{
 "cells": [
  {
   "cell_type": "markdown",
   "id": "84b14bc6",
   "metadata": {},
   "source": [
    "# Test GPU Notebook\n",
    "\n",
    "This notebook will execute a few Python statements to check if the Nivdia GPU is available and functional."
   ]
  },
  {
   "cell_type": "markdown",
   "id": "8628e7fe",
   "metadata": {},
   "source": [
    "## Tensorflow"
   ]
  },
  {
   "cell_type": "code",
   "execution_count": 2,
   "id": "2be54e5b",
   "metadata": {},
   "outputs": [
    {
     "name": "stdout",
     "output_type": "stream",
     "text": [
      "GPU found:\n",
      "Name:         /device:GPU:0\n",
      "Descr.:       device: 0, name: Quadro P4000, pci bus id: 0000:01:00.0, compute capability: 6.1\n",
      "memory_limit: 7302630605\n"
     ]
    }
   ],
   "source": [
    "from tensorflow.python.client import device_lib\n",
    "\n",
    "# Print local GPU(s) information\n",
    "for device in device_lib.list_local_devices():\n",
    "    if device.device_type == \"GPU\":\n",
    "        print(\"GPU found:\")\n",
    "        print(\"Name:         \" + device.name)\n",
    "        print(\"Descr.:       \" + device.physical_device_desc)\n",
    "        print(\"memory_limit: \" + str(device.memory_limit))"
   ]
  },
  {
   "cell_type": "markdown",
   "id": "eab79c72",
   "metadata": {},
   "source": [
    "## Keras"
   ]
  },
  {
   "cell_type": "code",
   "execution_count": 3,
   "id": "9cb11c46",
   "metadata": {},
   "outputs": [
    {
     "name": "stdout",
     "output_type": "stream",
     "text": [
      "Found GPU(s):\n",
      "  - /job:localhost/replica:0/task:0/device:GPU:0\n"
     ]
    },
    {
     "name": "stderr",
     "output_type": "stream",
     "text": [
      "Using TensorFlow backend.\n"
     ]
    }
   ],
   "source": [
    "from keras import backend\n",
    "gpus = backend.tensorflow_backend._get_available_gpus()\n",
    "\n",
    "print(\"Found GPU(s):\")\n",
    "for gpu in gpus:\n",
    "    print(\"  - \" + gpu)"
   ]
  },
  {
   "cell_type": "markdown",
   "id": "8ae4341e",
   "metadata": {},
   "source": [
    "## scikit-learn\n",
    "At the time of writing this notebook (29-04-2021), according to the [scikit-learn FAQ](https://scikit-learn.org/stable/faq.html#will-you-add-gpu-support):\n",
    "\n",
    "> No, or at least not in the near future. The main reason is that GPU support will introduce many software dependencies and introduce platform specific issues. scikit-learn is designed to be easy to install on a wide variety of platforms. Outside of neural networks, GPUs don’t play a large role in machine learning today, and much larger gains in speed can often be achieved by a careful choice of algorithms."
   ]
  }
 ],
 "metadata": {
  "kernelspec": {
   "display_name": "Python 3",
   "language": "python",
   "name": "python3"
  },
  "language_info": {
   "codemirror_mode": {
    "name": "ipython",
    "version": 3
   },
   "file_extension": ".py",
   "mimetype": "text/x-python",
   "name": "python",
   "nbconvert_exporter": "python",
   "pygments_lexer": "ipython3",
   "version": "3.6.9"
  }
 },
 "nbformat": 4,
 "nbformat_minor": 5
}
